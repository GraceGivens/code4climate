{
  "nbformat": 4,
  "nbformat_minor": 0,
  "metadata": {
    "colab": {
      "provenance": []
    },
    "kernelspec": {
      "name": "python3",
      "display_name": "Python 3"
    },
    "language_info": {
      "name": "python"
    }
  },
  "cells": [
    {
      "cell_type": "code",
      "execution_count": 37,
      "metadata": {
        "id": "xUquHXVJ_Set",
        "outputId": "0db8ec94-a97f-4bf6-badc-a990976881fc",
        "colab": {
          "base_uri": "https://localhost:8080/"
        }
      },
      "outputs": [
        {
          "output_type": "stream",
          "name": "stdout",
          "text": [
            "give one number.20\n",
            "give another number greater than the previous number.1\n",
            "2 prime this\n",
            "3 prime this\n",
            "5 prime this\n",
            "7 prime this\n",
            "11 prime this\n",
            "13 prime this\n",
            "17 prime this\n",
            "19 prime this\n",
            "no range\n"
          ]
        }
      ],
      "source": [
        "v1= int(input(\"give one number.\"))\n",
        "v2= int(input(\"give another number greater than the previous number.\"))\n",
        "\n",
        "if (v1>v2):\n",
        "  max=v1\n",
        "  min=v2\n",
        "else:\n",
        "  max=v2\n",
        "  min=v1\n",
        "\n",
        "v1=min\n",
        "v2=max\n",
        "\n",
        "for i in range(v1, v2+1):\n",
        "  if i > 1:\n",
        "    for d in range(2,i+1):\n",
        "      if i%d == 0:\n",
        "        break\n",
        "\n",
        "    if(d==i):\n",
        "      print(i,'prime this')\n",
        "else:\n",
        "  print('no range')"
      ]
    },
    {
      "cell_type": "code",
      "source": [
        "2"
      ],
      "metadata": {
        "id": "2HJyOfnrxn-Z"
      },
      "execution_count": null,
      "outputs": []
    }
  ]
}