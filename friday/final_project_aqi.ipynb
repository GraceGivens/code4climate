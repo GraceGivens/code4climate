{
  "cells": [
    {
      "cell_type": "code",
      "source": [
        "import pandas as pd\n",
        "#starting point\n",
        "\n",
        ""
      ],
      "metadata": {
        "id": "bavc2Glm1E7T"
      },
      "id": "bavc2Glm1E7T",
      "execution_count": 93,
      "outputs": []
    },
    {
      "cell_type": "code",
      "source": [
        "data=pd.read_csv(\"clean_20211224.csv\")#day 1"
      ],
      "metadata": {
        "id": "uvPdcRqz_K8S"
      },
      "id": "uvPdcRqz_K8S",
      "execution_count": 92,
      "outputs": []
    },
    {
      "cell_type": "code",
      "source": [
        "from numpy.lib.function_base import average\n",
        "average_aqi=data [\"AQI\"].mean()\n"
      ],
      "metadata": {
        "id": "q7cLymb5_fC_"
      },
      "id": "q7cLymb5_fC_",
      "execution_count": 91,
      "outputs": []
    },
    {
      "cell_type": "code",
      "source": [
        "average_PM10=data [\"PM10\"].mean()"
      ],
      "metadata": {
        "id": "C8Qp2MU2BZZk"
      },
      "id": "C8Qp2MU2BZZk",
      "execution_count": 43,
      "outputs": []
    },
    {
      "cell_type": "code",
      "source": [
        "average_25=data [\"PM2.5\"].mean()"
      ],
      "metadata": {
        "id": "WYF4tCj-CKCq"
      },
      "id": "WYF4tCj-CKCq",
      "execution_count": 49,
      "outputs": []
    },
    {
      "cell_type": "code",
      "source": [
        "data2=pd.read_csv(\"clean_20211225.csv\")#day 2"
      ],
      "metadata": {
        "id": "qQUcG83_Cruo"
      },
      "id": "qQUcG83_Cruo",
      "execution_count": 90,
      "outputs": []
    },
    {
      "cell_type": "code",
      "source": [
        "average_aqi2=data2 [\"AQI\"].mean()"
      ],
      "metadata": {
        "id": "B80RF_xGC6RS"
      },
      "id": "B80RF_xGC6RS",
      "execution_count": 62,
      "outputs": []
    },
    {
      "cell_type": "code",
      "source": [
        "average_PM102=data2 [\"PM10\"].mean()"
      ],
      "metadata": {
        "id": "Mvph9D1jDMkx"
      },
      "id": "Mvph9D1jDMkx",
      "execution_count": 61,
      "outputs": []
    },
    {
      "cell_type": "code",
      "source": [
        "average_PM252=data2[\"PM2.5\"].mean()"
      ],
      "metadata": {
        "id": "VKtlQApwDlCB"
      },
      "id": "VKtlQApwDlCB",
      "execution_count": 60,
      "outputs": []
    },
    {
      "cell_type": "code",
      "source": [
        "data3=pd.read_csv(\"clean_20220131.csv\")#day 3"
      ],
      "metadata": {
        "id": "WsdYGMZ9Dz0_"
      },
      "id": "WsdYGMZ9Dz0_",
      "execution_count": 68,
      "outputs": []
    },
    {
      "cell_type": "code",
      "source": [
        "average_aqi3=data3 [\"AQI\"].mean()"
      ],
      "metadata": {
        "id": "Z2beg77KEEsU"
      },
      "id": "Z2beg77KEEsU",
      "execution_count": 77,
      "outputs": []
    },
    {
      "cell_type": "code",
      "source": [
        "average_PM103=data3 [\"PM10\"].mean()"
      ],
      "metadata": {
        "id": "vMmRq6LjEeRD"
      },
      "id": "vMmRq6LjEeRD",
      "execution_count": 58,
      "outputs": []
    },
    {
      "cell_type": "code",
      "source": [
        "average_PM253=data3[\"PM2.5\"].mean()"
      ],
      "metadata": {
        "id": "rAknWoWAEhqb"
      },
      "id": "rAknWoWAEhqb",
      "execution_count": 63,
      "outputs": []
    },
    {
      "cell_type": "code",
      "source": [
        "data4=pd.read_csv(\"clean_20220215.csv\")#day 4"
      ],
      "metadata": {
        "id": "envCR2xqE1VE"
      },
      "id": "envCR2xqE1VE",
      "execution_count": 119,
      "outputs": []
    },
    {
      "cell_type": "code",
      "source": [
        "average_aqi4=data4 [\"AQI\"].mean()"
      ],
      "metadata": {
        "id": "duIiL6D1QNRr"
      },
      "id": "duIiL6D1QNRr",
      "execution_count": 155,
      "outputs": []
    },
    {
      "cell_type": "code",
      "source": [
        "average_PM104=data4 [\"PM10\"].mean()"
      ],
      "metadata": {
        "id": "e5g89EVdQSlU"
      },
      "id": "e5g89EVdQSlU",
      "execution_count": 156,
      "outputs": []
    },
    {
      "cell_type": "code",
      "source": [
        "average_PM254=data4 [\"PM2.5\"].mean()"
      ],
      "metadata": {
        "id": "1xKLSZrJQigh"
      },
      "id": "1xKLSZrJQigh",
      "execution_count": 157,
      "outputs": []
    },
    {
      "cell_type": "code",
      "source": [
        "data5=pd.read_csv(\"clean_20220316.csv\")#day 5"
      ],
      "metadata": {
        "id": "e-o_d8GPHPgz"
      },
      "id": "e-o_d8GPHPgz",
      "execution_count": 106,
      "outputs": []
    },
    {
      "cell_type": "code",
      "source": [
        "average_aqi5=data5 [\"AQI\"].mean()"
      ],
      "metadata": {
        "id": "zcwMLIrVHYW-"
      },
      "id": "zcwMLIrVHYW-",
      "execution_count": 79,
      "outputs": []
    },
    {
      "cell_type": "code",
      "source": [
        "average_PM105=data5 [\"PM10\"].mean()"
      ],
      "metadata": {
        "id": "vTxZaDQKHZR9"
      },
      "id": "vTxZaDQKHZR9",
      "execution_count": 128,
      "outputs": []
    },
    {
      "cell_type": "code",
      "source": [
        "average_PM255=data5 [\"PM2.5\"].mean()"
      ],
      "metadata": {
        "id": "8rTO_5OVHZvI"
      },
      "id": "8rTO_5OVHZvI",
      "execution_count": 80,
      "outputs": []
    },
    {
      "cell_type": "code",
      "source": [
        "data6=pd.read_csv(\"clean_20220704.csv\")#day 6"
      ],
      "metadata": {
        "id": "Rbne6KX2Hord"
      },
      "id": "Rbne6KX2Hord",
      "execution_count": 84,
      "outputs": []
    },
    {
      "cell_type": "code",
      "source": [
        "average_aqi6=data6 [\"AQI\"].mean()"
      ],
      "metadata": {
        "id": "Gb_DSTPkH7BZ"
      },
      "id": "Gb_DSTPkH7BZ",
      "execution_count": 86,
      "outputs": []
    },
    {
      "cell_type": "code",
      "source": [
        "average_PM106=data6 [\"PM10\"].mean()"
      ],
      "metadata": {
        "id": "8Gt93829ICzf"
      },
      "id": "8Gt93829ICzf",
      "execution_count": 85,
      "outputs": []
    },
    {
      "cell_type": "code",
      "source": [
        "average_PM256=data6 [\"PM2.5\"].mean()"
      ],
      "metadata": {
        "id": "xP0zdS_5ICeq"
      },
      "id": "xP0zdS_5ICeq",
      "execution_count": 87,
      "outputs": []
    },
    {
      "cell_type": "code",
      "source": [
        "data7=pd.read_csv(\"clean_20221030.csv\")#day 7"
      ],
      "metadata": {
        "id": "6APZWBKsISxH"
      },
      "id": "6APZWBKsISxH",
      "execution_count": 158,
      "outputs": []
    },
    {
      "cell_type": "code",
      "source": [
        "average_aqi7=data7 [\"AQI\"].mean()"
      ],
      "metadata": {
        "id": "fKt8alN_P8j2"
      },
      "id": "fKt8alN_P8j2",
      "execution_count": 125,
      "outputs": []
    },
    {
      "cell_type": "code",
      "source": [
        "average_PM107=data7 [\"PM10\"].mean()"
      ],
      "metadata": {
        "id": "unqXbSKWQCzm"
      },
      "id": "unqXbSKWQCzm",
      "execution_count": 126,
      "outputs": []
    },
    {
      "cell_type": "code",
      "source": [
        "average_PM257=data7 [\"PM2.5\"].mean()"
      ],
      "metadata": {
        "id": "68C6vBl0QHF9"
      },
      "id": "68C6vBl0QHF9",
      "execution_count": 127,
      "outputs": []
    },
    {
      "cell_type": "code",
      "source": [
        "data8=pd.read_csv(\"clean_20230617.csv\")#day 8"
      ],
      "metadata": {
        "id": "txa5z1sJIkWp"
      },
      "id": "txa5z1sJIkWp",
      "execution_count": 89,
      "outputs": []
    },
    {
      "cell_type": "code",
      "source": [
        "average_aqi8=data8 [\"AQI\"].mean()"
      ],
      "metadata": {
        "id": "SsMja_tuIvmR"
      },
      "id": "SsMja_tuIvmR",
      "execution_count": 96,
      "outputs": []
    },
    {
      "cell_type": "code",
      "source": [
        "average_PM108=data8 [\"PM10\"].mean()"
      ],
      "metadata": {
        "id": "_AfAeS8wJCzO"
      },
      "id": "_AfAeS8wJCzO",
      "execution_count": 97,
      "outputs": []
    },
    {
      "cell_type": "code",
      "source": [
        "average_PM258=data8 [\"PM2.5\"].mean()"
      ],
      "metadata": {
        "id": "ymSHiuEbJCcZ"
      },
      "id": "ymSHiuEbJCcZ",
      "execution_count": 98,
      "outputs": []
    },
    {
      "cell_type": "code",
      "source": [
        "data9=pd.read_csv(\"clean_20230627.csv\")#day 9"
      ],
      "metadata": {
        "id": "AWeqcQW-JTGB"
      },
      "id": "AWeqcQW-JTGB",
      "execution_count": 99,
      "outputs": []
    },
    {
      "cell_type": "code",
      "source": [
        "average_aqi9=data9 [\"AQI\"].mean()"
      ],
      "metadata": {
        "id": "CA9EGV2rJtv-"
      },
      "id": "CA9EGV2rJtv-",
      "execution_count": 100,
      "outputs": []
    },
    {
      "cell_type": "code",
      "source": [
        "average_PM109=data9 [\"PM10\"].mean()"
      ],
      "metadata": {
        "id": "UouhzIFxJyOi"
      },
      "id": "UouhzIFxJyOi",
      "execution_count": 101,
      "outputs": []
    },
    {
      "cell_type": "code",
      "source": [
        "average_PM259=data9 [\"PM2.5\"].mean()"
      ],
      "metadata": {
        "id": "2zmqrrrRJymW"
      },
      "id": "2zmqrrrRJymW",
      "execution_count": 102,
      "outputs": []
    },
    {
      "cell_type": "code",
      "source": [
        "data10=pd.read_csv(\"clean_20230704.csv\")#day 10"
      ],
      "metadata": {
        "id": "T_3VW_IKKLzd"
      },
      "id": "T_3VW_IKKLzd",
      "execution_count": 121,
      "outputs": []
    },
    {
      "cell_type": "code",
      "source": [
        "average_aqi10=data9 [\"AQI\"].mean()"
      ],
      "metadata": {
        "id": "KKOTCLrsPpSz"
      },
      "id": "KKOTCLrsPpSz",
      "execution_count": 122,
      "outputs": []
    },
    {
      "cell_type": "code",
      "source": [
        "average_PM1010=data9 [\"PM10\"].mean()"
      ],
      "metadata": {
        "id": "6ObvaqKrPpM2"
      },
      "id": "6ObvaqKrPpM2",
      "execution_count": 123,
      "outputs": []
    },
    {
      "cell_type": "code",
      "source": [
        "average_PM2510=data9 [\"PM2.5\"].mean()"
      ],
      "metadata": {
        "id": "8BtplfhtPlOV"
      },
      "id": "8BtplfhtPlOV",
      "execution_count": 124,
      "outputs": []
    },
    {
      "cell_type": "code",
      "source": [
        "data11=pd.read_csv(\"clean_20230716.csv\")#day 11"
      ],
      "metadata": {
        "id": "wQXdztqaMO63"
      },
      "id": "wQXdztqaMO63",
      "execution_count": 107,
      "outputs": []
    },
    {
      "cell_type": "code",
      "source": [
        "average_aqi11=data11 [\"AQI\"].mean()"
      ],
      "metadata": {
        "id": "z2mSj-H9MeZk"
      },
      "id": "z2mSj-H9MeZk",
      "execution_count": 110,
      "outputs": []
    },
    {
      "cell_type": "code",
      "source": [
        "average_PM1011=data11 [\"PM10\"].mean()"
      ],
      "metadata": {
        "id": "ha6As9cZMisO"
      },
      "id": "ha6As9cZMisO",
      "execution_count": 109,
      "outputs": []
    },
    {
      "cell_type": "code",
      "source": [
        "average_PM2511=data11 [\"PM2.5\"].mean()"
      ],
      "metadata": {
        "id": "-vQpgUWqMibP"
      },
      "id": "-vQpgUWqMibP",
      "execution_count": 108,
      "outputs": []
    },
    {
      "cell_type": "code",
      "source": [
        "data12=pd.read_csv(\"clean_20230725.csv\")#day 12"
      ],
      "metadata": {
        "id": "PRcEz85bMqcn"
      },
      "id": "PRcEz85bMqcn",
      "execution_count": 111,
      "outputs": []
    },
    {
      "cell_type": "code",
      "source": [
        "average_aqi12=data12 [\"AQI\"].mean()"
      ],
      "metadata": {
        "id": "SVu7SNebM7rg"
      },
      "id": "SVu7SNebM7rg",
      "execution_count": 112,
      "outputs": []
    },
    {
      "cell_type": "code",
      "source": [
        "average_PM1012=data12 [\"PM10\"].mean()"
      ],
      "metadata": {
        "id": "nRa6SWFUM8gJ"
      },
      "id": "nRa6SWFUM8gJ",
      "execution_count": 113,
      "outputs": []
    },
    {
      "cell_type": "code",
      "source": [
        "average_PM2512=data12 [\"PM2.5\"].mean()"
      ],
      "metadata": {
        "id": "5o4Z-6ygM36Z"
      },
      "id": "5o4Z-6ygM36Z",
      "execution_count": 114,
      "outputs": []
    },
    {
      "cell_type": "code",
      "source": [
        "data13=pd.read_csv(\"clean_20230726.csv\")#day 13"
      ],
      "metadata": {
        "id": "a3GpWKu_NLrz"
      },
      "id": "a3GpWKu_NLrz",
      "execution_count": 115,
      "outputs": []
    },
    {
      "cell_type": "code",
      "source": [
        "average_aqi13=data13 [\"AQI\"].mean()"
      ],
      "metadata": {
        "id": "zUTYFIpwNSJ8"
      },
      "id": "zUTYFIpwNSJ8",
      "execution_count": 116,
      "outputs": []
    },
    {
      "cell_type": "code",
      "source": [
        "average_PM1013=data13 [\"PM10\"].mean()"
      ],
      "metadata": {
        "id": "5OxqwMTVNYIS"
      },
      "id": "5OxqwMTVNYIS",
      "execution_count": 117,
      "outputs": []
    },
    {
      "cell_type": "code",
      "source": [
        "average_PM2513=data13 [\"PM2.5\"].mean()"
      ],
      "metadata": {
        "id": "aIuCmiTnNX36"
      },
      "id": "aIuCmiTnNX36",
      "execution_count": 118,
      "outputs": []
    },
    {
      "cell_type": "code",
      "source": [
        "data14=pd.read_csv(\"clean_20230704.csv\")#day 14"
      ],
      "metadata": {
        "id": "R9hZh6OCNhne"
      },
      "id": "R9hZh6OCNhne",
      "execution_count": 135,
      "outputs": []
    },
    {
      "cell_type": "code",
      "source": [
        "average_aqi14=data14 [\"AQI\"].mean()"
      ],
      "metadata": {
        "id": "fmy5P2P7SSXD"
      },
      "id": "fmy5P2P7SSXD",
      "execution_count": 136,
      "outputs": []
    },
    {
      "cell_type": "code",
      "source": [
        "average_PM1014=data14 [\"PM10\"].mean()"
      ],
      "metadata": {
        "id": "IOAA3JhySSDP"
      },
      "id": "IOAA3JhySSDP",
      "execution_count": 137,
      "outputs": []
    },
    {
      "cell_type": "code",
      "source": [
        "average_PM2514=data14 [\"PM2.5\"].mean()"
      ],
      "metadata": {
        "id": "LSBInGljSRwG"
      },
      "id": "LSBInGljSRwG",
      "execution_count": 138,
      "outputs": []
    },
    {
      "cell_type": "code",
      "source": [
        "data15=pd.read_csv(\"clean_20221222.csv\")#day 15"
      ],
      "metadata": {
        "id": "7oMj29UGRw9Z"
      },
      "id": "7oMj29UGRw9Z",
      "execution_count": 134,
      "outputs": []
    },
    {
      "cell_type": "code",
      "source": [
        "average_aqi15=data15 [\"AQI\"].mean()"
      ],
      "metadata": {
        "id": "ALF9y7VQSTsL"
      },
      "id": "ALF9y7VQSTsL",
      "execution_count": 139,
      "outputs": []
    },
    {
      "cell_type": "code",
      "source": [
        "average_PM1015=data15 [\"PM10\"].mean()"
      ],
      "metadata": {
        "id": "EU2JOfAySUSs"
      },
      "id": "EU2JOfAySUSs",
      "execution_count": 140,
      "outputs": []
    },
    {
      "cell_type": "code",
      "source": [
        "average_PM2515=data15 [\"PM2.5\"].mean()"
      ],
      "metadata": {
        "id": "z0Py7E02SUmR"
      },
      "id": "z0Py7E02SUmR",
      "execution_count": 141,
      "outputs": []
    },
    {
      "cell_type": "code",
      "source": [
        "print(\"20211224, 20211225, 20220131, 20220215, 2022316, 20220704, 20221030, 20230617, 20230627, 20230704, 20230716, 2023725, 20230726, 2023704, 20221222\")\n",
        "day=int(input(\"give a day from the list above\"))\n",
        "if day == 20211224:\n",
        "  print(\"AQI:\" ,average_aqi, \"PM10\" ,average_PM10, \"PM2.5\" ,average_PM25)\n",
        "elif day ==20211225:\n",
        "  print(\"AQI:\" ,average_aqi2, \"PM10\" ,average_PM102, \"PM2.5\" ,average_PM252)\n",
        "elif day ==20220131:\n",
        "  print(\"AQI:\" ,average_aqi3, \"PM10\" ,average_PM103, \"PM2.5\" ,average_PM253)\n",
        "elif day ==20220215:\n",
        "   print(\"AQI:\" ,average_aqi4, \"PM10\" ,average_PM104, \"PM2.5\" ,average_PM254)\n",
        "elif day ==20220316:\n",
        "   print(\"AQI:\" ,average_aqi5, \"PM10\" ,average_PM105, \"PM2.5\" ,average_PM255)\n",
        "elif day ==20220704:\n",
        "   print(\"AQI:\" ,average_aqi6, \"PM10\" ,average_PM106, \"PM2.5\" ,average_PM256)\n",
        "elif day ==20221030:\n",
        "   print(\"AQI:\" ,average_aqi7, \"PM10\" ,average_PM107, \"PM2.5\" ,average_PM257)\n",
        "elif day ==20230617:\n",
        "   print(\"AQI:\" ,average_aqi8, \"PM10\" ,average_PM108, \"PM2.5\" ,average_PM258)\n",
        "elif day ==20230627:\n",
        "   print(\"AQI:\" ,average_aqi9, \"PM10\" ,average_PM109, \"PM2.5\" ,average_PM259)\n",
        "elif day ==20230704:\n",
        "   print(\"AQI:\" ,average_aqi10, \"PM10\" ,average_PM1010, \"PM2.5\" ,average_PM2510)\n",
        "elif day ==20230716:\n",
        "   print(\"AQI:\" ,average_aqi11, \"PM10\" ,average_PM1011, \"PM2.5\" ,average_PM2511)\n",
        "elif day ==2023725:\n",
        "   print(\"AQI:\" ,average_aqi12, \"PM10\" ,average_PM1012, \"PM2.5\" ,average_PM2512)\n",
        "elif day ==20230726:\n",
        "   print(\"AQI:\" ,average_aqi13, \"PM10\" ,average_PM1013, \"PM2.5\" ,average_PM2513)\n",
        "elif day ==20230704:\n",
        "   print(\"AQI:\" ,average_aqi14, \"PM10\" ,average_PM1014, \"PM2.5\" ,average_PM2514)\n",
        "elif day ==20221222:\n",
        "   print(\"AQI:\" ,average_aqi15, \"PM10\" ,average_PM1015, \"PM2.5\" ,average_PM2515)"
      ],
      "metadata": {
        "id": "lxogmlUKTK6T",
        "outputId": "bb8182c8-c691-49a7-c849-c9238fa1b5de",
        "colab": {
          "base_uri": "https://localhost:8080/"
        }
      },
      "id": "lxogmlUKTK6T",
      "execution_count": 163,
      "outputs": [
        {
          "output_type": "stream",
          "name": "stdout",
          "text": [
            "20211224, 20211225, 20220131, 20220215, 2022316, 20220704, 20221030, 20230617, 20230627, 20230704, 20230716, 2023725, 20230726, 2023704, 20221222\n",
            "give a day from the list above20220215\n",
            "AQI: 111.10608237547895 PM10 46.661038793103444 PM2.5 39.48685009578544\n"
          ]
        }
      ]
    },
    {
      "cell_type": "code",
      "source": [
        "import matplotlib.pyplot as plt"
      ],
      "metadata": {
        "id": "F9cqsRkrceW-"
      },
      "id": "F9cqsRkrceW-",
      "execution_count": 164,
      "outputs": []
    },
    {
      "cell_type": "code",
      "source": [],
      "metadata": {
        "id": "pppHG9iucptq",
        "outputId": "e06d8193-1359-49c5-b712-dc5b5e31356d",
        "colab": {
          "base_uri": "https://localhost:8080/",
          "height": 448
        }
      },
      "id": "pppHG9iucptq",
      "execution_count": 166,
      "outputs": [
        {
          "output_type": "execute_result",
          "data": {
            "text/plain": [
              "<matplotlib.collections.PathCollection at 0x7ae8755befe0>"
            ]
          },
          "metadata": {},
          "execution_count": 166
        },
        {
          "output_type": "display_data",
          "data": {
            "text/plain": [
              "<Figure size 640x480 with 1 Axes>"
            ],
            "image/png": "[encoded data removed]"
          },
          "metadata": {}
        }
      ]
    },
    {
      "cell_type": "code",
      "source": [
        "aqi_data = pd.read_csv('clean_20211224.csv')\n",
        "aqi_data"
      ],
      "metadata": {
        "id": "uPEKwci8eFad",
        "outputId": "82ab56fe-3e3b-4ed5-bc1f-000d0c10f5e5",
        "colab": {
          "base_uri": "https://localhost:8080/",
          "height": 801
        }
      },
      "id": "uPEKwci8eFad",
      "execution_count": 167,
      "outputs": [
        {
          "output_type": "execute_result",
          "data": {
            "text/plain": [
              "    hour    temp(F)   humidity         AQI        PM1      PM2.5       PM10\n",
              "0      0  42.206897  51.206897   74.827586  15.105862  23.448276  26.645172\n",
              "1      1  42.333333  51.366667   81.466667  17.470000  26.582333  30.720667\n",
              "2      2  41.266667  52.500000   91.900000  20.154000  31.453333  37.000333\n",
              "3      3  39.966667  54.133333  100.666667  22.989000  35.400000  41.405667\n",
              "4      4  39.600000  55.333333  112.833333  26.356333  40.306000  48.979000\n",
              "5      5  39.000000  56.666667  114.766667  26.774000  41.073667  50.033667\n",
              "6      6  37.900000  58.800000  121.466667  28.334333  43.830000  54.793667\n",
              "7      7  38.233333  62.100000  125.766667  28.790000  45.567667  57.950667\n",
              "8      8  38.266667  62.200000  128.666667  29.682667  46.765000  59.567000\n",
              "9      9  37.233333  65.066667  132.166667  30.250000  48.140333  61.433000\n",
              "10    10  37.500000  66.933333  129.600000  29.545333  47.121000  60.071000\n",
              "11    11  39.033333  65.200000  121.566667  27.856667  43.797667  55.458667\n",
              "12    12  39.300000  68.666667  125.700000  28.561667  45.514667  58.342333\n",
              "13    13  41.566667  74.266667  125.766667  28.697000  45.544000  58.140667\n",
              "14    14  43.100000  75.433333  124.100000  27.143000  44.907333  57.882667\n",
              "15    15  43.600000  76.100000  114.600000  23.920000  41.040333  53.198667\n",
              "16    16  45.433333  74.266667  116.000000  24.252333  41.619000  54.034667\n",
              "17    17  47.600000  72.500000  116.366667  25.116333  41.772667  53.697333\n",
              "18    18  49.166667  71.566667  106.633333  23.298000  37.815333  47.257667\n",
              "19    19  50.000000  70.166667  100.666667  22.360333  35.440333  42.834667\n",
              "20    20  50.366667  69.033333   95.433333  21.093333  33.152333  38.935000\n",
              "21    21  51.200000  67.433333   89.433333  19.027333  30.403000  34.746000\n",
              "22    22  50.766667  67.166667   87.800000  18.885667  29.615667  33.551333\n",
              "23    23  49.000000  71.966667   98.933333  21.726333  34.686333  41.023000"
            ],
            "text/html": [
              "\n",
              "\n",
              "  <div id=\"df-fe890cdd-a4d3-4fb8-b3d4-7b6dd167c153\">\n",
              "    <div class=\"colab-df-container\">\n",
              "      <div>\n",
              "<style scoped>\n",
              "    .dataframe tbody tr th:only-of-type {\n",
              "        vertical-align: middle;\n",
              "    }\n",
              "\n",
              "    .dataframe tbody tr th {\n",
              "        vertical-align: top;\n",
              "    }\n",
              "\n",
              "    .dataframe thead th {\n",
              "        text-align: right;\n",
              "    }\n",
              "</style>\n",
              "<table border=\"1\" class=\"dataframe\">\n",
              "  <thead>\n",
              "    <tr style=\"text-align: right;\">\n",
              "      <th></th>\n",
              "      <th>hour</th>\n",
              "      <th>temp(F)</th>\n",
              "      <th>humidity</th>\n",
              "      <th>AQI</th>\n",
              "      <th>PM1</th>\n",
              "      <th>PM2.5</th>\n",
              "      <th>PM10</th>\n",
              "    </tr>\n",
              "  </thead>\n",
              "  <tbody>\n",
              "    <tr>\n",
              "      <th>0</th>\n",
              "      <td>0</td>\n",
              "      <td>42.206897</td>\n",
              "      <td>51.206897</td>\n",
              "      <td>74.827586</td>\n",
              "      <td>15.105862</td>\n",
              "      <td>23.448276</td>\n",
              "      <td>26.645172</td>\n",
              "    </tr>\n",
              "    <tr>\n",
              "      <th>1</th>\n",
              "      <td>1</td>\n",
              "      <td>42.333333</td>\n",
              "      <td>51.366667</td>\n",
              "      <td>81.466667</td>\n",
              "      <td>17.470000</td>\n",
              "      <td>26.582333</td>\n",
              "      <td>30.720667</td>\n",
              "    </tr>\n",
              "    <tr>\n",
              "      <th>2</th>\n",
              "      <td>2</td>\n",
              "      <td>41.266667</td>\n",
              "      <td>52.500000</td>\n",
              "      <td>91.900000</td>\n",
              "      <td>20.154000</td>\n",
              "      <td>31.453333</td>\n",
              "      <td>37.000333</td>\n",
              "    </tr>\n",
              "    <tr>\n",
              "      <th>3</th>\n",
              "      <td>3</td>\n",
              "      <td>39.966667</td>\n",
              "      <td>54.133333</td>\n",
              "      <td>100.666667</td>\n",
              "      <td>22.989000</td>\n",
              "      <td>35.400000</td>\n",
              "      <td>41.405667</td>\n",
              "    </tr>\n",
              "    <tr>\n",
              "      <th>4</th>\n",
              "      <td>4</td>\n",
              "      <td>39.600000</td>\n",
              "      <td>55.333333</td>\n",
              "      <td>112.833333</td>\n",
              "      <td>26.356333</td>\n",
              "      <td>40.306000</td>\n",
              "      <td>48.979000</td>\n",
              "    </tr>\n",
              "    <tr>\n",
              "      <th>5</th>\n",
              "      <td>5</td>\n",
              "      <td>39.000000</td>\n",
              "      <td>56.666667</td>\n",
              "      <td>114.766667</td>\n",
              "      <td>26.774000</td>\n",
              "      <td>41.073667</td>\n",
              "      <td>50.033667</td>\n",
              "    </tr>\n",
              "    <tr>\n",
              "      <th>6</th>\n",
              "      <td>6</td>\n",
              "      <td>37.900000</td>\n",
              "      <td>58.800000</td>\n",
              "      <td>121.466667</td>\n",
              "      <td>28.334333</td>\n",
              "      <td>43.830000</td>\n",
              "      <td>54.793667</td>\n",
              "    </tr>\n",
              "    <tr>\n",
              "      <th>7</th>\n",
              "      <td>7</td>\n",
              "      <td>38.233333</td>\n",
              "      <td>62.100000</td>\n",
              "      <td>125.766667</td>\n",
              "      <td>28.790000</td>\n",
              "      <td>45.567667</td>\n",
              "      <td>57.950667</td>\n",
              "    </tr>\n",
              "    <tr>\n",
              "      <th>8</th>\n",
              "      <td>8</td>\n",
              "      <td>38.266667</td>\n",
              "      <td>62.200000</td>\n",
              "      <td>128.666667</td>\n",
              "      <td>29.682667</td>\n",
              "      <td>46.765000</td>\n",
              "      <td>59.567000</td>\n",
              "    </tr>\n",
              "    <tr>\n",
              "      <th>9</th>\n",
              "      <td>9</td>\n",
              "      <td>37.233333</td>\n",
              "      <td>65.066667</td>\n",
              "      <td>132.166667</td>\n",
              "      <td>30.250000</td>\n",
              "      <td>48.140333</td>\n",
              "      <td>61.433000</td>\n",
              "    </tr>\n",
              "    <tr>\n",
              "      <th>10</th>\n",
              "      <td>10</td>\n",
              "      <td>37.500000</td>\n",
              "      <td>66.933333</td>\n",
              "      <td>129.600000</td>\n",
              "      <td>29.545333</td>\n",
              "      <td>47.121000</td>\n",
              "      <td>60.071000</td>\n",
              "    </tr>\n",
              "    <tr>\n",
              "      <th>11</th>\n",
              "      <td>11</td>\n",
              "      <td>39.033333</td>\n",
              "      <td>65.200000</td>\n",
              "      <td>121.566667</td>\n",
              "      <td>27.856667</td>\n",
              "      <td>43.797667</td>\n",
              "      <td>55.458667</td>\n",
              "    </tr>\n",
              "    <tr>\n",
              "      <th>12</th>\n",
              "      <td>12</td>\n",
              "      <td>39.300000</td>\n",
              "      <td>68.666667</td>\n",
              "      <td>125.700000</td>\n",
              "      <td>28.561667</td>\n",
              "      <td>45.514667</td>\n",
              "      <td>58.342333</td>\n",
              "    </tr>\n",
              "    <tr>\n",
              "      <th>13</th>\n",
              "      <td>13</td>\n",
              "      <td>41.566667</td>\n",
              "      <td>74.266667</td>\n",
              "      <td>125.766667</td>\n",
              "      <td>28.697000</td>\n",
              "      <td>45.544000</td>\n",
              "      <td>58.140667</td>\n",
              "    </tr>\n",
              "    <tr>\n",
              "      <th>14</th>\n",
              "      <td>14</td>\n",
              "      <td>43.100000</td>\n",
              "      <td>75.433333</td>\n",
              "      <td>124.100000</td>\n",
              "      <td>27.143000</td>\n",
              "      <td>44.907333</td>\n",
              "      <td>57.882667</td>\n",
              "    </tr>\n",
              "    <tr>\n",
              "      <th>15</th>\n",
              "      <td>15</td>\n",
              "      <td>43.600000</td>\n",
              "      <td>76.100000</td>\n",
              "      <td>114.600000</td>\n",
              "      <td>23.920000</td>\n",
              "      <td>41.040333</td>\n",
              "      <td>53.198667</td>\n",
              "    </tr>\n",
              "    <tr>\n",
              "      <th>16</th>\n",
              "      <td>16</td>\n",
              "      <td>45.433333</td>\n",
              "      <td>74.266667</td>\n",
              "      <td>116.000000</td>\n",
              "      <td>24.252333</td>\n",
              "      <td>41.619000</td>\n",
              "      <td>54.034667</td>\n",
              "    </tr>\n",
              "    <tr>\n",
              "      <th>17</th>\n",
              "      <td>17</td>\n",
              "      <td>47.600000</td>\n",
              "      <td>72.500000</td>\n",
              "      <td>116.366667</td>\n",
              "      <td>25.116333</td>\n",
              "      <td>41.772667</td>\n",
              "      <td>53.697333</td>\n",
              "    </tr>\n",
              "    <tr>\n",
              "      <th>18</th>\n",
              "      <td>18</td>\n",
              "      <td>49.166667</td>\n",
              "      <td>71.566667</td>\n",
              "      <td>106.633333</td>\n",
              "      <td>23.298000</td>\n",
              "      <td>37.815333</td>\n",
              "      <td>47.257667</td>\n",
              "    </tr>\n",
              "    <tr>\n",
              "      <th>19</th>\n",
              "      <td>19</td>\n",
              "      <td>50.000000</td>\n",
              "      <td>70.166667</td>\n",
              "      <td>100.666667</td>\n",
              "      <td>22.360333</td>\n",
              "      <td>35.440333</td>\n",
              "      <td>42.834667</td>\n",
              "    </tr>\n",
              "    <tr>\n",
              "      <th>20</th>\n",
              "      <td>20</td>\n",
              "      <td>50.366667</td>\n",
              "      <td>69.033333</td>\n",
              "      <td>95.433333</td>\n",
              "      <td>21.093333</td>\n",
              "      <td>33.152333</td>\n",
              "      <td>38.935000</td>\n",
              "    </tr>\n",
              "    <tr>\n",
              "      <th>21</th>\n",
              "      <td>21</td>\n",
              "      <td>51.200000</td>\n",
              "      <td>67.433333</td>\n",
              "      <td>89.433333</td>\n",
              "      <td>19.027333</td>\n",
              "      <td>30.403000</td>\n",
              "      <td>34.746000</td>\n",
              "    </tr>\n",
              "    <tr>\n",
              "      <th>22</th>\n",
              "      <td>22</td>\n",
              "      <td>50.766667</td>\n",
              "      <td>67.166667</td>\n",
              "      <td>87.800000</td>\n",
              "      <td>18.885667</td>\n",
              "      <td>29.615667</td>\n",
              "      <td>33.551333</td>\n",
              "    </tr>\n",
              "    <tr>\n",
              "      <th>23</th>\n",
              "      <td>23</td>\n",
              "      <td>49.000000</td>\n",
              "      <td>71.966667</td>\n",
              "      <td>98.933333</td>\n",
              "      <td>21.726333</td>\n",
              "      <td>34.686333</td>\n",
              "      <td>41.023000</td>\n",
              "    </tr>\n",
              "  </tbody>\n",
              "</table>\n",
              "</div>\n",
              "      <button class=\"colab-df-convert\" onclick=\"convertToInteractive('df-fe890cdd-a4d3-4fb8-b3d4-7b6dd167c153')\"\n",
              "              title=\"Convert this dataframe to an interactive table.\"\n",
              "              style=\"display:none;\">\n",
              "\n",
              "  <svg xmlns=\"http://www.w3.org/2000/svg\" height=\"24px\"viewBox=\"0 0 24 24\"\n",
              "       width=\"24px\">\n",
              "    <path d=\"M0 0h24v24H0V0z\" fill=\"none\"/>\n",
              "    <path d=\"M18.56 5.44l.94 2.06.94-2.06 2.06-.94-2.06-.94-.94-2.06-.94 2.06-2.06.94zm-11 1L8.5 8.5l.94-2.06 2.06-.94-2.06-.94L8.5 2.5l-.94 2.06-2.06.94zm10 10l.94 2.06.94-2.06 2.06-.94-2.06-.94-.94-2.06-.94 2.06-2.06.94z\"/><path d=\"M17.41 7.96l-1.37-1.37c-.4-.4-.92-.59-1.43-.59-.52 0-1.04.2-1.43.59L10.3 9.45l-7.72 7.72c-.78.78-.78 2.05 0 2.83L4 21.41c.39.39.9.59 1.41.59.51 0 1.02-.2 1.41-.59l7.78-7.78 2.81-2.81c.8-.78.8-2.07 0-2.86zM5.41 20L4 18.59l7.72-7.72 1.47 1.35L5.41 20z\"/>\n",
              "  </svg>\n",
              "      </button>\n",
              "\n",
              "\n",
              "\n",
              "    <div id=\"df-2097e4f1-0ad4-4b51-bbc2-c82e91bff515\">\n",
              "      <button class=\"colab-df-quickchart\" onclick=\"quickchart('df-2097e4f1-0ad4-4b51-bbc2-c82e91bff515')\"\n",
              "              title=\"Suggest charts.\"\n",
              "              style=\"display:none;\">\n",
              "\n",
              "<svg xmlns=\"http://www.w3.org/2000/svg\" height=\"24px\"viewBox=\"0 0 24 24\"\n",
              "     width=\"24px\">\n",
              "    <g>\n",
              "        <path d=\"M19 3H5c-1.1 0-2 .9-2 2v14c0 1.1.9 2 2 2h14c1.1 0 2-.9 2-2V5c0-1.1-.9-2-2-2zM9 17H7v-7h2v7zm4 0h-2V7h2v10zm4 0h-2v-4h2v4z\"/>\n",
              "    </g>\n",
              "</svg>\n",
              "      </button>\n",
              "    </div>\n",
              "\n",
              "<style>\n",
              "  .colab-df-quickchart {\n",
              "    background-color: #E8F0FE;\n",
              "    border: none;\n",
              "    border-radius: 50%;\n",
              "    cursor: pointer;\n",
              "    display: none;\n",
              "    fill: #1967D2;\n",
              "    height: 32px;\n",
              "    padding: 0 0 0 0;\n",
              "    width: 32px;\n",
              "  }\n",
              "\n",
              "  .colab-df-quickchart:hover {\n",
              "    background-color: #E2EBFA;\n",
              "    box-shadow: 0px 1px 2px rgba(60, 64, 67, 0.3), 0px 1px 3px 1px rgba(60, 64, 67, 0.15);\n",
              "    fill: #174EA6;\n",
              "  }\n",
              "\n",
              "  [theme=dark] .colab-df-quickchart {\n",
              "    background-color: #3B4455;\n",
              "    fill: #D2E3FC;\n",
              "  }\n",
              "\n",
              "  [theme=dark] .colab-df-quickchart:hover {\n",
              "    background-color: #434B5C;\n",
              "    box-shadow: 0px 1px 3px 1px rgba(0, 0, 0, 0.15);\n",
              "    filter: drop-shadow(0px 1px 2px rgba(0, 0, 0, 0.3));\n",
              "    fill: #FFFFFF;\n",
              "  }\n",
              "</style>\n",
              "\n",
              "    <script>\n",
              "      async function quickchart(key) {\n",
              "        const containerElement = document.querySelector('#' + key);\n",
              "        const charts = await google.colab.kernel.invokeFunction(\n",
              "            'suggestCharts', [key], {});\n",
              "      }\n",
              "    </script>\n",
              "\n",
              "      <script>\n",
              "\n",
              "function displayQuickchartButton(domScope) {\n",
              "  let quickchartButtonEl =\n",
              "    domScope.querySelector('#df-2097e4f1-0ad4-4b51-bbc2-c82e91bff515 button.colab-df-quickchart');\n",
              "  quickchartButtonEl.style.display =\n",
              "    google.colab.kernel.accessAllowed ? 'block' : 'none';\n",
              "}\n",
              "\n",
              "        displayQuickchartButton(document);\n",
              "      </script>\n",
              "      <style>\n",
              "    .colab-df-container {\n",
              "      display:flex;\n",
              "      flex-wrap:wrap;\n",
              "      gap: 12px;\n",
              "    }\n",
              "\n",
              "    .colab-df-convert {\n",
              "      background-color: #E8F0FE;\n",
              "      border: none;\n",
              "      border-radius: 50%;\n",
              "      cursor: pointer;\n",
              "      display: none;\n",
              "      fill: #1967D2;\n",
              "      height: 32px;\n",
              "      padding: 0 0 0 0;\n",
              "      width: 32px;\n",
              "    }\n",
              "\n",
              "    .colab-df-convert:hover {\n",
              "      background-color: #E2EBFA;\n",
              "      box-shadow: 0px 1px 2px rgba(60, 64, 67, 0.3), 0px 1px 3px 1px rgba(60, 64, 67, 0.15);\n",
              "      fill: #174EA6;\n",
              "    }\n",
              "\n",
              "    [theme=dark] .colab-df-convert {\n",
              "      background-color: #3B4455;\n",
              "      fill: #D2E3FC;\n",
              "    }\n",
              "\n",
              "    [theme=dark] .colab-df-convert:hover {\n",
              "      background-color: #434B5C;\n",
              "      box-shadow: 0px 1px 3px 1px rgba(0, 0, 0, 0.15);\n",
              "      filter: drop-shadow(0px 1px 2px rgba(0, 0, 0, 0.3));\n",
              "      fill: #FFFFFF;\n",
              "    }\n",
              "  </style>\n",
              "\n",
              "      <script>\n",
              "        const buttonEl =\n",
              "          document.querySelector('#df-fe890cdd-a4d3-4fb8-b3d4-7b6dd167c153 button.colab-df-convert');\n",
              "        buttonEl.style.display =\n",
              "          google.colab.kernel.accessAllowed ? 'block' : 'none';\n",
              "\n",
              "        async function convertToInteractive(key) {\n",
              "          const element = document.querySelector('#df-fe890cdd-a4d3-4fb8-b3d4-7b6dd167c153');\n",
              "          const dataTable =\n",
              "            await google.colab.kernel.invokeFunction('convertToInteractive',\n",
              "                                                     [key], {});\n",
              "          if (!dataTable) return;\n",
              "\n",
              "          const docLinkHtml = 'Like what you see? Visit the ' +\n",
              "            '<a target=\"_blank\" href=https://colab.research.google.com/notebooks/data_table.ipynb>data table notebook</a>'\n",
              "            + ' to learn more about interactive tables.';\n",
              "          element.innerHTML = '';\n",
              "          dataTable['output_type'] = 'display_data';\n",
              "          await google.colab.output.renderOutput(dataTable, element);\n",
              "          const docLink = document.createElement('div');\n",
              "          docLink.innerHTML = docLinkHtml;\n",
              "          element.appendChild(docLink);\n",
              "        }\n",
              "      </script>\n",
              "    </div>\n",
              "  </div>\n"
            ]
          },
          "metadata": {},
          "execution_count": 167
        }
      ]
    },
    {
      "cell_type": "code",
      "source": [
        "pm10=aqi_data['PM10'].mean()\n",
        "pm25=aqi_data[\"PM2.5\"].mean()"
      ],
      "metadata": {
        "id": "j2WiUxNneSMp"
      },
      "id": "j2WiUxNneSMp",
      "execution_count": 174,
      "outputs": []
    },
    {
      "cell_type": "code",
      "source": [
        "print(pm10, pm25)"
      ],
      "metadata": {
        "id": "nv_ROykAebIq",
        "outputId": "a0ab0dc4-547e-4976-962d-894b2163ecd9",
        "colab": {
          "base_uri": "https://localhost:8080/"
        }
      },
      "id": "nv_ROykAebIq",
      "execution_count": 175,
      "outputs": [
        {
          "output_type": "stream",
          "name": "stdout",
          "text": [
            "48.23760440613027 38.958178160919545\n"
          ]
        }
      ]
    },
    {
      "cell_type": "code",
      "source": [],
      "metadata": {
        "id": "gXmcFW3HfBI9"
      },
      "id": "gXmcFW3HfBI9",
      "execution_count": null,
      "outputs": []
    }
  ],
  "metadata": {
    "colab": {
      "provenance": []
    },
    "language_info": {
      "name": "python"
    },
    "kernelspec": {
      "name": "python3",
      "display_name": "Python 3"
    }
  },
  "nbformat": 4,
  "nbformat_minor": 5
}